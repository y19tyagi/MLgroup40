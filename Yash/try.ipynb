{
 "cells": [
  {
   "cell_type": "code",
   "execution_count": 9,
   "metadata": {},
   "outputs": [
    {
     "ename": "KeyboardInterrupt",
     "evalue": "",
     "output_type": "error",
     "traceback": [
      "\u001b[1;31m---------------------------------------------------------------------------\u001b[0m",
      "\u001b[1;31mKeyboardInterrupt\u001b[0m                         Traceback (most recent call last)",
      "Cell \u001b[1;32mIn[9], line 94\u001b[0m\n\u001b[0;32m     92\u001b[0m \u001b[38;5;28;01mif\u001b[39;00m \u001b[38;5;18m__name__\u001b[39m \u001b[38;5;241m==\u001b[39m \u001b[38;5;124m\"\u001b[39m\u001b[38;5;124m__main__\u001b[39m\u001b[38;5;124m\"\u001b[39m:\n\u001b[0;32m     93\u001b[0m     agent \u001b[38;5;241m=\u001b[39m Qlearning_agent(\u001b[38;5;28;01mFalse\u001b[39;00m)\n\u001b[1;32m---> 94\u001b[0m     \u001b[43magent\u001b[49m\u001b[38;5;241;43m.\u001b[39;49m\u001b[43mlearning\u001b[49m\u001b[43m(\u001b[49m\u001b[43m)\u001b[49m\n\u001b[0;32m     95\u001b[0m     agent\u001b[38;5;241m.\u001b[39mtest()\n\u001b[0;32m     96\u001b[0m     agent\u001b[38;5;241m.\u001b[39msave_model()\n",
      "Cell \u001b[1;32mIn[9], line 60\u001b[0m, in \u001b[0;36mQlearning_agent.learning\u001b[1;34m(self)\u001b[0m\n\u001b[0;32m     57\u001b[0m     \u001b[38;5;28mself\u001b[39m\u001b[38;5;241m.\u001b[39mlearn_rate \u001b[38;5;241m=\u001b[39m \u001b[38;5;241m0.0001\u001b[39m\n\u001b[0;32m     59\u001b[0m \u001b[38;5;28;01mfor\u001b[39;00m x \u001b[38;5;129;01min\u001b[39;00m \u001b[38;5;28mrange\u001b[39m(\u001b[38;5;28mself\u001b[39m\u001b[38;5;241m.\u001b[39mnum_episodes):\n\u001b[1;32m---> 60\u001b[0m     \u001b[38;5;28mself\u001b[39m\u001b[38;5;241m.\u001b[39msum_rewards \u001b[38;5;241m=\u001b[39m \u001b[43mnp\u001b[49m\u001b[38;5;241;43m.\u001b[39;49m\u001b[43msum\u001b[49m\u001b[43m(\u001b[49m\u001b[38;5;28;43mself\u001b[39;49m\u001b[38;5;241;43m.\u001b[39;49m\u001b[43mrewards_episodes\u001b[49m\u001b[43m[\u001b[49m\u001b[38;5;28;43mmax\u001b[39;49m\u001b[43m(\u001b[49m\u001b[38;5;241;43m0\u001b[39;49m\u001b[43m,\u001b[49m\u001b[43m \u001b[49m\u001b[43mx\u001b[49m\u001b[38;5;241;43m-\u001b[39;49m\u001b[38;5;241;43m100\u001b[39;49m\u001b[43m)\u001b[49m\u001b[43m:\u001b[49m\u001b[43m(\u001b[49m\u001b[43mx\u001b[49m\u001b[38;5;241;43m+\u001b[39;49m\u001b[38;5;241;43m1\u001b[39;49m\u001b[43m)\u001b[49m\u001b[43m]\u001b[49m\u001b[43m)\u001b[49m \n\u001b[0;32m     61\u001b[0m plt\u001b[38;5;241m.\u001b[39mplot(\u001b[38;5;28mself\u001b[39m\u001b[38;5;241m.\u001b[39msum_rewards)\n\u001b[0;32m     62\u001b[0m plt\u001b[38;5;241m.\u001b[39msavefig(\u001b[38;5;124m'\u001b[39m\u001b[38;5;124mfrozen_lake8x8.png\u001b[39m\u001b[38;5;124m'\u001b[39m)\n",
      "File \u001b[1;32mc:\\Users\\priya\\anaconda3\\envs\\project_ml\\lib\\site-packages\\numpy\\core\\fromnumeric.py:2172\u001b[0m, in \u001b[0;36m_sum_dispatcher\u001b[1;34m(a, axis, dtype, out, keepdims, initial, where)\u001b[0m\n\u001b[0;32m   2102\u001b[0m \u001b[38;5;250m    \u001b[39m\u001b[38;5;124;03m\"\"\"\u001b[39;00m\n\u001b[0;32m   2103\u001b[0m \u001b[38;5;124;03m    Clip (limit) the values in an array.\u001b[39;00m\n\u001b[0;32m   2104\u001b[0m \n\u001b[1;32m   (...)\u001b[0m\n\u001b[0;32m   2167\u001b[0m \n\u001b[0;32m   2168\u001b[0m \u001b[38;5;124;03m    \"\"\"\u001b[39;00m\n\u001b[0;32m   2169\u001b[0m     \u001b[38;5;28;01mreturn\u001b[39;00m _wrapfunc(a, \u001b[38;5;124m'\u001b[39m\u001b[38;5;124mclip\u001b[39m\u001b[38;5;124m'\u001b[39m, a_min, a_max, out\u001b[38;5;241m=\u001b[39mout, \u001b[38;5;241m*\u001b[39m\u001b[38;5;241m*\u001b[39mkwargs)\n\u001b[1;32m-> 2172\u001b[0m \u001b[38;5;28;01mdef\u001b[39;00m \u001b[38;5;21m_sum_dispatcher\u001b[39m(a, axis\u001b[38;5;241m=\u001b[39m\u001b[38;5;28;01mNone\u001b[39;00m, dtype\u001b[38;5;241m=\u001b[39m\u001b[38;5;28;01mNone\u001b[39;00m, out\u001b[38;5;241m=\u001b[39m\u001b[38;5;28;01mNone\u001b[39;00m, keepdims\u001b[38;5;241m=\u001b[39m\u001b[38;5;28;01mNone\u001b[39;00m,\n\u001b[0;32m   2173\u001b[0m                     initial\u001b[38;5;241m=\u001b[39m\u001b[38;5;28;01mNone\u001b[39;00m, where\u001b[38;5;241m=\u001b[39m\u001b[38;5;28;01mNone\u001b[39;00m):\n\u001b[0;32m   2174\u001b[0m     \u001b[38;5;28;01mreturn\u001b[39;00m (a, out)\n\u001b[0;32m   2177\u001b[0m \u001b[38;5;129m@array_function_dispatch\u001b[39m(_sum_dispatcher)\n\u001b[0;32m   2178\u001b[0m \u001b[38;5;28;01mdef\u001b[39;00m \u001b[38;5;21msum\u001b[39m(a, axis\u001b[38;5;241m=\u001b[39m\u001b[38;5;28;01mNone\u001b[39;00m, dtype\u001b[38;5;241m=\u001b[39m\u001b[38;5;28;01mNone\u001b[39;00m, out\u001b[38;5;241m=\u001b[39m\u001b[38;5;28;01mNone\u001b[39;00m, keepdims\u001b[38;5;241m=\u001b[39mnp\u001b[38;5;241m.\u001b[39m_NoValue,\n\u001b[0;32m   2179\u001b[0m         initial\u001b[38;5;241m=\u001b[39mnp\u001b[38;5;241m.\u001b[39m_NoValue, where\u001b[38;5;241m=\u001b[39mnp\u001b[38;5;241m.\u001b[39m_NoValue):\n",
      "\u001b[1;31mKeyboardInterrupt\u001b[0m: "
     ]
    },
    {
     "data": {
      "image/png": "[encoded data removed]",
      "text/plain": [
       "<Figure size 640x480 with 1 Axes>"
      ]
     },
     "metadata": {},
     "output_type": "display_data"
    }
   ],
   "source": [
    "from typing import List, Dict, Any, Tuple\n",
    "import gymnasium as gym\n",
    "import numpy as np\n",
    "from time import sleep\n",
    "import matplotlib.pyplot as plt\n",
    "import pickle\n",
    "from random import randint \n",
    "\n",
    "class Qlearning_agent:\n",
    "\n",
    "    def __init__(self, render_mode):\n",
    "        self.env = gym.make(\"FrozenLake-v1\",map_name=\"8x8\", is_slippery=True,  render_mode='human'if render_mode else None) # change grid \n",
    "        \n",
    "        # Create table for storing rewards\n",
    "        self.rewards_table = np.zeros((64, 8))  # 16 states, 4 actions || change based on grid\n",
    "        self.num_episodes = 15000 \n",
    "        self.qtable = np.zeros((self.env.observation_space.n, self.env.action_space.n))\n",
    "        # Simple parameters\n",
    "        self.learn_rate = 0.1\n",
    "        self.discount = 0.9\n",
    "        self.explore_chance = 0.3\n",
    "        # self.reward = -0.\n",
    "        self.epsilon = 1\n",
    "\n",
    "        self.epsilon_decay_rate = 0.001\n",
    "\n",
    "        self.random_num = np.random.default_rng()\n",
    "\n",
    "        self.rewards_episodes = np.zeros(self.num_episodes)\n",
    "\n",
    "    def learning(self):\n",
    "        for i in range(self.num_episodes):\n",
    "            self.state = self.env.reset()[0]\n",
    "\n",
    "            self.stop = False\n",
    "            self.excess = False \n",
    "\n",
    "            while not self.stop and not self.excess:\n",
    "                if self.random_num.random() < self.epsilon:\n",
    "                    self.action = self.env.action_space.sample()\n",
    "                else:\n",
    "                    self.action = np.argmax(self.qtable[self.state])\n",
    "                \n",
    "                self.new_state, self.reward, self.stop, self.excess, _ = self.env.step(self.action)\n",
    "\n",
    "                self.qtable[self.state,self.action] = self.qtable[self.state,self.action] + self.learn_rate* (\n",
    "                    self.reward + self.discount * np.max(self.qtable[self.new_state,:]) - self.qtable[self.state,self.action]\n",
    "                )\n",
    "\n",
    "                self.state = self.new_state\n",
    "            self.epsilon = max(self.epsilon - self.epsilon_decay_rate, 0)\n",
    "\n",
    "            if self.reward == 1:\n",
    "                self.rewards_episodes[i] = 1\n",
    "            \n",
    "            if self.epsilon == 0:\n",
    "                self.learn_rate = 0.0001\n",
    "                \n",
    "            for x in range(self.num_episodes):\n",
    "                self.sum_rewards = np.sum(self.rewards_episodes[max(0, x-100):(x+1)]) \n",
    "            plt.plot(self.sum_rewards)\n",
    "            plt.savefig('frozen_lake8x8.png')\n",
    "            self.env.close()\n",
    "    def save_model(self):\n",
    "\n",
    "        self.file = open(\"frozen_lake8x8.pkl\",\"wb\")\n",
    "        pickle.dump(self.qtable, self.file)\n",
    "        self.file.close()\n",
    "    \n",
    "        \n",
    "\n",
    "    def test(self):\n",
    "        print(\"\\nTesting the agent...\")\n",
    "        wins = 0\n",
    "        tests = 100\n",
    "        self.test_rewards  = np.zeros(tests)\n",
    "        for j in range(tests):\n",
    "            self.state = self.env.reset()[0]\n",
    "            \n",
    "            for step in range(self.max_steps):\n",
    "                action = np.argmax(self.rewards_table[state])\n",
    "                state, reward, done, _, _ = self.env.step(action)\n",
    "                \n",
    "                if done:\n",
    "                    wins += reward  # reward is 1 for win, 0 for loss\n",
    "                    break\n",
    "            self.test_sum_rewards = np.sum(self.test_rewards[max(0, j-100):(j+1)])    \n",
    "            plt.plot(self.test_sum_rewards)\n",
    "            plt.savefig(\"frozen_lake8x8_test_resut.png\")    \n",
    "        print(f\"Success rate: {(wins/tests)*100}%\")\n",
    "\n",
    "if __name__ == \"__main__\":\n",
    "    agent = Qlearning_agent(False)\n",
    "    agent.learning()\n",
    "    agent.test()\n",
    "    agent.save_model()\n",
    "\n"
   ]
  },
  {
   "cell_type": "code",
   "execution_count": 4,
   "metadata": {},
   "outputs": [
    {
     "name": "stdout",
     "output_type": "stream",
     "text": [
      "random number: 0.20529137059929226\n",
      "random number: 0.05997899229103554\n",
      "random number: 0.5699301792115343\n",
      "random number: 0.7359591974653195\n",
      "random number: 0.7853342438206908\n",
      "random number: 0.31030004241123943\n",
      "random number: 0.0052420916767369485\n",
      "random number: 0.9180982319240026\n",
      "random number: 0.9821677832406975\n",
      "random number: 0.09375740176314906\n"
     ]
    }
   ],
   "source": [
    "import numpy as np\n",
    "rng = np.random.default_rng()\n",
    "for i in range(10):\n",
    "    print(f\"random number: {rng.random()}\")\n"
   ]
  }
 ],
 "metadata": {
  "kernelspec": {
   "display_name": "project_ml",
   "language": "python",
   "name": "python3"
  },
  "language_info": {
   "codemirror_mode": {
    "name": "ipython",
    "version": 3
   },
   "file_extension": ".py",
   "mimetype": "text/x-python",
   "name": "python",
   "nbconvert_exporter": "python",
   "pygments_lexer": "ipython3",
   "version": "3.10.16"
  }
 },
 "nbformat": 4,
 "nbformat_minor": 2
}
